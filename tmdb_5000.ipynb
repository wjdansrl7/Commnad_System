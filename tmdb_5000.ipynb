{
 "cells": [
  {
   "cell_type": "code",
   "execution_count": 47,
   "metadata": {
    "collapsed": true
   },
   "outputs": [
    {
     "name": "stdout",
     "output_type": "stream",
     "text": [
      "(4803, 20)\n"
     ]
    },
    {
     "data": {
      "text/plain": "      budget  \\\n0  237000000   \n\n                                                                                                genres  \\\n0  [{\"id\": 28, \"name\": \"Action\"}, {\"id\": 12, \"name\": \"Adventure\"}, {\"id\": 14, \"name\": \"Fantasy\"}, {...   \n\n                      homepage     id  \\\n0  http://www.avatarmovie.com/  19995   \n\n                                                                                              keywords  \\\n0  [{\"id\": 1463, \"name\": \"culture clash\"}, {\"id\": 2964, \"name\": \"future\"}, {\"id\": 3386, \"name\": \"sp...   \n\n  original_language original_title  \\\n0                en         Avatar   \n\n                                                                                              overview  \\\n0  In the 22nd century, a paraplegic Marine is dispatched to the moon Pandora on a unique mission, ...   \n\n   popularity  \\\n0  150.437577   \n\n                                                                                  production_companies  \\\n0  [{\"name\": \"Ingenious Film Partners\", \"id\": 289}, {\"name\": \"Twentieth Century Fox Film Corporatio...   \n\n                                                                                  production_countries  \\\n0  [{\"iso_3166_1\": \"US\", \"name\": \"United States of America\"}, {\"iso_3166_1\": \"GB\", \"name\": \"United ...   \n\n  release_date     revenue  runtime  \\\n0   2009-12-10  2787965087    162.0   \n\n                                                                        spoken_languages  \\\n0  [{\"iso_639_1\": \"en\", \"name\": \"English\"}, {\"iso_639_1\": \"es\", \"name\": \"Espa\\u00f1ol\"}]   \n\n     status                      tagline   title  vote_average  vote_count  \n0  Released  Enter the World of Pandora.  Avatar           7.2       11800  ",
      "text/html": "<div>\n<style scoped>\n    .dataframe tbody tr th:only-of-type {\n        vertical-align: middle;\n    }\n\n    .dataframe tbody tr th {\n        vertical-align: top;\n    }\n\n    .dataframe thead th {\n        text-align: right;\n    }\n</style>\n<table border=\"1\" class=\"dataframe\">\n  <thead>\n    <tr style=\"text-align: right;\">\n      <th></th>\n      <th>budget</th>\n      <th>genres</th>\n      <th>homepage</th>\n      <th>id</th>\n      <th>keywords</th>\n      <th>original_language</th>\n      <th>original_title</th>\n      <th>overview</th>\n      <th>popularity</th>\n      <th>production_companies</th>\n      <th>production_countries</th>\n      <th>release_date</th>\n      <th>revenue</th>\n      <th>runtime</th>\n      <th>spoken_languages</th>\n      <th>status</th>\n      <th>tagline</th>\n      <th>title</th>\n      <th>vote_average</th>\n      <th>vote_count</th>\n    </tr>\n  </thead>\n  <tbody>\n    <tr>\n      <th>0</th>\n      <td>237000000</td>\n      <td>[{\"id\": 28, \"name\": \"Action\"}, {\"id\": 12, \"name\": \"Adventure\"}, {\"id\": 14, \"name\": \"Fantasy\"}, {...</td>\n      <td>http://www.avatarmovie.com/</td>\n      <td>19995</td>\n      <td>[{\"id\": 1463, \"name\": \"culture clash\"}, {\"id\": 2964, \"name\": \"future\"}, {\"id\": 3386, \"name\": \"sp...</td>\n      <td>en</td>\n      <td>Avatar</td>\n      <td>In the 22nd century, a paraplegic Marine is dispatched to the moon Pandora on a unique mission, ...</td>\n      <td>150.437577</td>\n      <td>[{\"name\": \"Ingenious Film Partners\", \"id\": 289}, {\"name\": \"Twentieth Century Fox Film Corporatio...</td>\n      <td>[{\"iso_3166_1\": \"US\", \"name\": \"United States of America\"}, {\"iso_3166_1\": \"GB\", \"name\": \"United ...</td>\n      <td>2009-12-10</td>\n      <td>2787965087</td>\n      <td>162.0</td>\n      <td>[{\"iso_639_1\": \"en\", \"name\": \"English\"}, {\"iso_639_1\": \"es\", \"name\": \"Espa\\u00f1ol\"}]</td>\n      <td>Released</td>\n      <td>Enter the World of Pandora.</td>\n      <td>Avatar</td>\n      <td>7.2</td>\n      <td>11800</td>\n    </tr>\n  </tbody>\n</table>\n</div>"
     },
     "execution_count": 47,
     "metadata": {},
     "output_type": "execute_result"
    }
   ],
   "source": [
    "import pandas as pd\n",
    "import numpy as np\n",
    "import warnings; warnings.filterwarnings('ignore')\n",
    "\n",
    "movies = pd.read_csv('archive1/tmdb_5000_movies.csv')\n",
    "print(movies.shape)\n",
    "movies.head(1)"
   ]
  },
  {
   "cell_type": "code",
   "execution_count": 48,
   "outputs": [
    {
     "data": {
      "text/plain": "                                                                                                genres  \\\n0  [{\"id\": 28, \"name\": \"Action\"}, {\"id\": 12, \"name\": \"Adventure\"}, {\"id\": 14, \"name\": \"Fantasy\"}, {...   \n\n                                                                                              keywords  \n0  [{\"id\": 1463, \"name\": \"culture clash\"}, {\"id\": 2964, \"name\": \"future\"}, {\"id\": 3386, \"name\": \"sp...  ",
      "text/html": "<div>\n<style scoped>\n    .dataframe tbody tr th:only-of-type {\n        vertical-align: middle;\n    }\n\n    .dataframe tbody tr th {\n        vertical-align: top;\n    }\n\n    .dataframe thead th {\n        text-align: right;\n    }\n</style>\n<table border=\"1\" class=\"dataframe\">\n  <thead>\n    <tr style=\"text-align: right;\">\n      <th></th>\n      <th>genres</th>\n      <th>keywords</th>\n    </tr>\n  </thead>\n  <tbody>\n    <tr>\n      <th>0</th>\n      <td>[{\"id\": 28, \"name\": \"Action\"}, {\"id\": 12, \"name\": \"Adventure\"}, {\"id\": 14, \"name\": \"Fantasy\"}, {...</td>\n      <td>[{\"id\": 1463, \"name\": \"culture clash\"}, {\"id\": 2964, \"name\": \"future\"}, {\"id\": 3386, \"name\": \"sp...</td>\n    </tr>\n  </tbody>\n</table>\n</div>"
     },
     "execution_count": 48,
     "metadata": {},
     "output_type": "execute_result"
    }
   ],
   "source": [
    "movies_df = movies[['id','title','genres','vote_average','vote_count','popularity',\n",
    "                    'keywords','overview']]\n",
    "\n",
    "pd.set_option('max_colwidth', 100)\n",
    "movies_df[['genres','keywords']][:1]"
   ],
   "metadata": {
    "collapsed": false,
    "pycharm": {
     "name": "#%%\n"
    }
   }
  },
  {
   "cell_type": "code",
   "execution_count": 49,
   "outputs": [],
   "source": [
    "from ast import literal_eval\n",
    "movies_df['genres'] = movies_df['genres'].apply(literal_eval)\n",
    "movies_df['keywords'] = movies_df['keywords'].apply(literal_eval)\n"
   ],
   "metadata": {
    "collapsed": false,
    "pycharm": {
     "name": "#%%\n"
    }
   }
  },
  {
   "cell_type": "code",
   "execution_count": 50,
   "outputs": [
    {
     "data": {
      "text/plain": "                                          genres  \\\n0  [Action, Adventure, Fantasy, Science Fiction]   \n\n                                                                                              keywords  \n0  [culture clash, future, space war, space colony, society, space travel, futuristic, romance, spa...  ",
      "text/html": "<div>\n<style scoped>\n    .dataframe tbody tr th:only-of-type {\n        vertical-align: middle;\n    }\n\n    .dataframe tbody tr th {\n        vertical-align: top;\n    }\n\n    .dataframe thead th {\n        text-align: right;\n    }\n</style>\n<table border=\"1\" class=\"dataframe\">\n  <thead>\n    <tr style=\"text-align: right;\">\n      <th></th>\n      <th>genres</th>\n      <th>keywords</th>\n    </tr>\n  </thead>\n  <tbody>\n    <tr>\n      <th>0</th>\n      <td>[Action, Adventure, Fantasy, Science Fiction]</td>\n      <td>[culture clash, future, space war, space colony, society, space travel, futuristic, romance, spa...</td>\n    </tr>\n  </tbody>\n</table>\n</div>"
     },
     "execution_count": 50,
     "metadata": {},
     "output_type": "execute_result"
    }
   ],
   "source": [
    "movies_df['genres'] = movies_df['genres'].apply(lambda x: [ y['name'] for y in x])\n",
    "movies_df['keywords'] = movies_df['keywords'].apply(lambda x: [ y['name'] for y in x])\n",
    "movies_df[['genres','keywords']][:1]\n"
   ],
   "metadata": {
    "collapsed": false,
    "pycharm": {
     "name": "#%%\n"
    }
   }
  },
  {
   "cell_type": "code",
   "execution_count": 51,
   "outputs": [
    {
     "name": "stdout",
     "output_type": "stream",
     "text": [
      "(4803, 276)\n"
     ]
    }
   ],
   "source": [
    "from sklearn.feature_extraction.text import CountVectorizer\n",
    "\n",
    "# CounterVectorizer를 적용하기 위해 공백문자로 word 단위가 구분되는 문자열로 변환.\n",
    "movies_df['genres_literal'] = movies_df['genres'].apply(lambda x:(' '.join(x)))\n",
    "count_vect = CountVectorizer(min_df=0, ngram_range=(1,2))\n",
    "genre_mat = count_vect.fit_transform(movies_df['genres_literal'])\n",
    "print(genre_mat.shape)\n"
   ],
   "metadata": {
    "collapsed": false,
    "pycharm": {
     "name": "#%%\n"
    }
   }
  },
  {
   "cell_type": "code",
   "execution_count": 52,
   "outputs": [
    {
     "name": "stdout",
     "output_type": "stream",
     "text": [
      "(4803, 4803)\n",
      "[[1.         0.59628479 0.4472136  ... 0.         0.         0.        ]\n",
      " [0.59628479 1.         0.4        ... 0.         0.         0.        ]]\n",
      "[[   0 3494  813 ... 3038 3037 2401]]\n"
     ]
    }
   ],
   "source": [
    "from sklearn.metrics.pairwise import cosine_similarity\n",
    "\n",
    "genre_sim = cosine_similarity(genre_mat, genre_mat)\n",
    "print(genre_sim.shape)\n",
    "print(genre_sim[:2])\n",
    "\n",
    "genre_sim_sorted_ind = genre_sim.argsort()[:, ::-1]\n",
    "print(genre_sim_sorted_ind[:1])\n"
   ],
   "metadata": {
    "collapsed": false,
    "pycharm": {
     "name": "#%%\n"
    }
   }
  },
  {
   "cell_type": "code",
   "execution_count": 53,
   "outputs": [],
   "source": [
    "# 장르 콘텐츠 필터링을 이용한 영화 추천\n",
    "def find_sim_movie(df, sorted_ind, title_name, top_n=10):\n",
    "    # movies_df DataFrame, 레코드별 장르 코사인 유사도 인덱스를 가지고 있는 genre_sim_sorted_ind, 고객이 선정한 추천 기준이 되는 영화 제목,추천할 영화 건수\n",
    "    # 인자로 입력된 movies_df DataFrame에서 'title' 칼럼이 입력된 title_name 값인 DataFrame 추출\n",
    "    title_movie = df[df['title'] == title_name]\n",
    "\n",
    "    # title_named을 가진 DataFrame의 index 객체를 ndarray로 반환하고\n",
    "    # sorted_ind 인자로 입력된 genre_sim_sorted_ind 객체에서 유사도 순으로 top_n 개의 index 추출\n",
    "    title_index = title_movie.index.values\n",
    "    similar_indexes = sorted_ind[title_index, :(top_n)]\n",
    "\n",
    "    # 추출된 top_n index 출력. top_n index는 2차원 데이터임.\n",
    "    # dataframe에서 index로 사용하기 위해서 1차원 array로 변경\n",
    "    print(similar_indexes)\n",
    "    similar_indexes = similar_indexes.reshape(-1)\n",
    "\n",
    "    return df.iloc[similar_indexes]\n",
    "\n",
    "\n",
    "\n"
   ],
   "metadata": {
    "collapsed": false,
    "pycharm": {
     "name": "#%%\n"
    }
   }
  },
  {
   "cell_type": "code",
   "execution_count": 54,
   "outputs": [
    {
     "name": "stdout",
     "output_type": "stream",
     "text": [
      "[[2731 1243 3636 1946 2640 4065 1847 4217  883 3866]]\n"
     ]
    },
    {
     "data": {
      "text/plain": "                                               title  vote_average\n2731                          The Godfather: Part II           8.3\n1243                                    Mean Streets           7.2\n3636                                   Light Sleeper           5.7\n1946  The Bad Lieutenant: Port of Call - New Orleans           6.0\n2640         Things to Do in Denver When You're Dead           6.7\n4065                                      Mi America           0.0\n1847                                      GoodFellas           8.2\n4217                                            Kids           6.8\n883                              Catch Me If You Can           7.7\n3866                                     City of God           8.1",
      "text/html": "<div>\n<style scoped>\n    .dataframe tbody tr th:only-of-type {\n        vertical-align: middle;\n    }\n\n    .dataframe tbody tr th {\n        vertical-align: top;\n    }\n\n    .dataframe thead th {\n        text-align: right;\n    }\n</style>\n<table border=\"1\" class=\"dataframe\">\n  <thead>\n    <tr style=\"text-align: right;\">\n      <th></th>\n      <th>title</th>\n      <th>vote_average</th>\n    </tr>\n  </thead>\n  <tbody>\n    <tr>\n      <th>2731</th>\n      <td>The Godfather: Part II</td>\n      <td>8.3</td>\n    </tr>\n    <tr>\n      <th>1243</th>\n      <td>Mean Streets</td>\n      <td>7.2</td>\n    </tr>\n    <tr>\n      <th>3636</th>\n      <td>Light Sleeper</td>\n      <td>5.7</td>\n    </tr>\n    <tr>\n      <th>1946</th>\n      <td>The Bad Lieutenant: Port of Call - New Orleans</td>\n      <td>6.0</td>\n    </tr>\n    <tr>\n      <th>2640</th>\n      <td>Things to Do in Denver When You're Dead</td>\n      <td>6.7</td>\n    </tr>\n    <tr>\n      <th>4065</th>\n      <td>Mi America</td>\n      <td>0.0</td>\n    </tr>\n    <tr>\n      <th>1847</th>\n      <td>GoodFellas</td>\n      <td>8.2</td>\n    </tr>\n    <tr>\n      <th>4217</th>\n      <td>Kids</td>\n      <td>6.8</td>\n    </tr>\n    <tr>\n      <th>883</th>\n      <td>Catch Me If You Can</td>\n      <td>7.7</td>\n    </tr>\n    <tr>\n      <th>3866</th>\n      <td>City of God</td>\n      <td>8.1</td>\n    </tr>\n  </tbody>\n</table>\n</div>"
     },
     "execution_count": 54,
     "metadata": {},
     "output_type": "execute_result"
    }
   ],
   "source": [
    "similar_movies = find_sim_movie(movies_df, genre_sim_sorted_ind, 'The Godfather', 10)\n",
    "similar_movies[['title', 'vote_average']]"
   ],
   "metadata": {
    "collapsed": false,
    "pycharm": {
     "name": "#%%\n"
    }
   }
  },
  {
   "cell_type": "code",
   "execution_count": 54,
   "outputs": [],
   "source": [],
   "metadata": {
    "collapsed": false,
    "pycharm": {
     "name": "#%%\n"
    }
   }
  },
  {
   "cell_type": "code",
   "execution_count": 60,
   "outputs": [
    {
     "data": {
      "text/plain": "                         title  vote_average  weighted_vote  vote_count\n1881  The Shawshank Redemption           8.5       8.396052        8205\n3337             The Godfather           8.4       8.263591        5893\n662                 Fight Club           8.3       8.216455        9413\n3232              Pulp Fiction           8.3       8.207102        8428\n65             The Dark Knight           8.2       8.136930       12002\n1818          Schindler's List           8.3       8.126069        4329\n3865                  Whiplash           8.3       8.123248        4254\n809               Forrest Gump           8.2       8.105954        7927\n2294             Spirited Away           8.3       8.105867        3840\n2731    The Godfather: Part II           8.3       8.079586        3338",
      "text/html": "<div>\n<style scoped>\n    .dataframe tbody tr th:only-of-type {\n        vertical-align: middle;\n    }\n\n    .dataframe tbody tr th {\n        vertical-align: top;\n    }\n\n    .dataframe thead th {\n        text-align: right;\n    }\n</style>\n<table border=\"1\" class=\"dataframe\">\n  <thead>\n    <tr style=\"text-align: right;\">\n      <th></th>\n      <th>title</th>\n      <th>vote_average</th>\n      <th>weighted_vote</th>\n      <th>vote_count</th>\n    </tr>\n  </thead>\n  <tbody>\n    <tr>\n      <th>1881</th>\n      <td>The Shawshank Redemption</td>\n      <td>8.5</td>\n      <td>8.396052</td>\n      <td>8205</td>\n    </tr>\n    <tr>\n      <th>3337</th>\n      <td>The Godfather</td>\n      <td>8.4</td>\n      <td>8.263591</td>\n      <td>5893</td>\n    </tr>\n    <tr>\n      <th>662</th>\n      <td>Fight Club</td>\n      <td>8.3</td>\n      <td>8.216455</td>\n      <td>9413</td>\n    </tr>\n    <tr>\n      <th>3232</th>\n      <td>Pulp Fiction</td>\n      <td>8.3</td>\n      <td>8.207102</td>\n      <td>8428</td>\n    </tr>\n    <tr>\n      <th>65</th>\n      <td>The Dark Knight</td>\n      <td>8.2</td>\n      <td>8.136930</td>\n      <td>12002</td>\n    </tr>\n    <tr>\n      <th>1818</th>\n      <td>Schindler's List</td>\n      <td>8.3</td>\n      <td>8.126069</td>\n      <td>4329</td>\n    </tr>\n    <tr>\n      <th>3865</th>\n      <td>Whiplash</td>\n      <td>8.3</td>\n      <td>8.123248</td>\n      <td>4254</td>\n    </tr>\n    <tr>\n      <th>809</th>\n      <td>Forrest Gump</td>\n      <td>8.2</td>\n      <td>8.105954</td>\n      <td>7927</td>\n    </tr>\n    <tr>\n      <th>2294</th>\n      <td>Spirited Away</td>\n      <td>8.3</td>\n      <td>8.105867</td>\n      <td>3840</td>\n    </tr>\n    <tr>\n      <th>2731</th>\n      <td>The Godfather: Part II</td>\n      <td>8.3</td>\n      <td>8.079586</td>\n      <td>3338</td>\n    </tr>\n  </tbody>\n</table>\n</div>"
     },
     "execution_count": 60,
     "metadata": {},
     "output_type": "execute_result"
    }
   ],
   "source": [
    "# movies_df[['title', 'vote_average', 'vote_count']].sort_values('vote_average', ascending=False)[:10]\n",
    "\n",
    "# 가중 평점(Weighted Rating) = (v/(v+m)) * R + (m/(v+m)) * c\n",
    "# v : 개별 영화에 평점을 투표한 횟수\n",
    "# m : 평점을 부여하기 위한 최소 투표 횟수\n",
    "# R : 개별 영화에 대한 평균 평점\n",
    "# C : 전체 영화에 대한 평균 평점\n",
    "\n",
    "# C = movies_df['vote_average'].mean()\n",
    "# m = movies_df['vote_count'].quantile(0.6)\n",
    "# print('C:', round(C, 3), 'm:', round(m,3))\n",
    "\n",
    "percentile = 0.6\n",
    "m = movies['vote_count'].quantile(percentile)\n",
    "C = movies['vote_average'].mean()\n",
    "\n",
    "def weighted_vote_average(record):\n",
    "    v = record['vote_count']\n",
    "    R = record['vote_average']\n",
    "\n",
    "    return ( (v/(v+m)) * R ) + ( (m/(m+v)) * C)\n",
    "\n",
    "movies_df['weighted_vote'] = movies.apply(weighted_vote_average, axis=1)\n",
    "\n",
    "\n",
    "movies_df[['title','vote_average','weighted_vote', 'vote_count']].sort_values(\n",
    "    'weighted_vote', ascending=False)[:10]\n"
   ],
   "metadata": {
    "collapsed": false,
    "pycharm": {
     "name": "#%%\n"
    }
   }
  },
  {
   "cell_type": "code",
   "execution_count": 62,
   "outputs": [
    {
     "data": {
      "text/plain": "                            title  vote_average  weighted_vote\n2731       The Godfather: Part II           8.3       8.079586\n1847                   GoodFellas           8.2       7.976937\n3866                  City of God           8.1       7.759693\n1663  Once Upon a Time in America           8.2       7.657811\n883           Catch Me If You Can           7.7       7.557097\n281             American Gangster           7.4       7.141396\n4041              This Is England           7.4       6.739664\n1149              American Hustle           6.8       6.717525\n1243                 Mean Streets           7.2       6.626569\n2839                     Rounders           6.9       6.530427",
      "text/html": "<div>\n<style scoped>\n    .dataframe tbody tr th:only-of-type {\n        vertical-align: middle;\n    }\n\n    .dataframe tbody tr th {\n        vertical-align: top;\n    }\n\n    .dataframe thead th {\n        text-align: right;\n    }\n</style>\n<table border=\"1\" class=\"dataframe\">\n  <thead>\n    <tr style=\"text-align: right;\">\n      <th></th>\n      <th>title</th>\n      <th>vote_average</th>\n      <th>weighted_vote</th>\n    </tr>\n  </thead>\n  <tbody>\n    <tr>\n      <th>2731</th>\n      <td>The Godfather: Part II</td>\n      <td>8.3</td>\n      <td>8.079586</td>\n    </tr>\n    <tr>\n      <th>1847</th>\n      <td>GoodFellas</td>\n      <td>8.2</td>\n      <td>7.976937</td>\n    </tr>\n    <tr>\n      <th>3866</th>\n      <td>City of God</td>\n      <td>8.1</td>\n      <td>7.759693</td>\n    </tr>\n    <tr>\n      <th>1663</th>\n      <td>Once Upon a Time in America</td>\n      <td>8.2</td>\n      <td>7.657811</td>\n    </tr>\n    <tr>\n      <th>883</th>\n      <td>Catch Me If You Can</td>\n      <td>7.7</td>\n      <td>7.557097</td>\n    </tr>\n    <tr>\n      <th>281</th>\n      <td>American Gangster</td>\n      <td>7.4</td>\n      <td>7.141396</td>\n    </tr>\n    <tr>\n      <th>4041</th>\n      <td>This Is England</td>\n      <td>7.4</td>\n      <td>6.739664</td>\n    </tr>\n    <tr>\n      <th>1149</th>\n      <td>American Hustle</td>\n      <td>6.8</td>\n      <td>6.717525</td>\n    </tr>\n    <tr>\n      <th>1243</th>\n      <td>Mean Streets</td>\n      <td>7.2</td>\n      <td>6.626569</td>\n    </tr>\n    <tr>\n      <th>2839</th>\n      <td>Rounders</td>\n      <td>6.9</td>\n      <td>6.530427</td>\n    </tr>\n  </tbody>\n</table>\n</div>"
     },
     "execution_count": 62,
     "metadata": {},
     "output_type": "execute_result"
    }
   ],
   "source": [
    "def find_sim_movie(df, sorted_ind, title_name, top_n=10):\n",
    "    title_movie = df[df['title'] == title_name]\n",
    "    title_index = title_movie.index.values\n",
    "\n",
    "    # top_n의 2배에 해당하는 장르 유사성이 높은 인덱스 추출\n",
    "    similar_indexes = sorted_ind[title_index, :(top_n*2)]\n",
    "    similar_indexes = similar_indexes.reshape(-1)\n",
    "    # 기준 영화 인덱스는 제외\n",
    "    similar_indexes = similar_indexes[similar_indexes != title_index]\n",
    "\n",
    "    # top_n의 2배에 해당하는 후보군에서 weighted_vote가 높은 순으로 top_n만큼 추출\n",
    "    return df.iloc[similar_indexes].sort_values('weighted_vote', ascending=False)[:top_n]\n",
    "\n",
    "similar_movies = find_sim_movie(movies_df, genre_sim_sorted_ind, 'The Godfather', 10)\n",
    "similar_movies[['title', 'vote_average', 'weighted_vote']]\n"
   ],
   "metadata": {
    "collapsed": false,
    "pycharm": {
     "name": "#%%\n"
    }
   }
  },
  {
   "cell_type": "code",
   "execution_count": null,
   "outputs": [],
   "source": [],
   "metadata": {
    "collapsed": false,
    "pycharm": {
     "name": "#%%\n"
    }
   }
  },
  {
   "cell_type": "code",
   "execution_count": null,
   "outputs": [],
   "source": [],
   "metadata": {
    "collapsed": false,
    "pycharm": {
     "name": "#%%\n"
    }
   }
  },
  {
   "cell_type": "code",
   "execution_count": null,
   "outputs": [],
   "source": [],
   "metadata": {
    "collapsed": false,
    "pycharm": {
     "name": "#%%\n"
    }
   }
  },
  {
   "cell_type": "code",
   "execution_count": null,
   "outputs": [],
   "source": [],
   "metadata": {
    "collapsed": false,
    "pycharm": {
     "name": "#%%\n"
    }
   }
  }
 ],
 "metadata": {
  "kernelspec": {
   "display_name": "Python 3",
   "language": "python",
   "name": "python3"
  },
  "language_info": {
   "codemirror_mode": {
    "name": "ipython",
    "version": 2
   },
   "file_extension": ".py",
   "mimetype": "text/x-python",
   "name": "python",
   "nbconvert_exporter": "python",
   "pygments_lexer": "ipython2",
   "version": "2.7.6"
  }
 },
 "nbformat": 4,
 "nbformat_minor": 0
}